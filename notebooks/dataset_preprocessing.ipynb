{
 "cells": [
  {
   "cell_type": "code",
   "execution_count": null,
   "metadata": {
    "cellId": "ab6k3usa4widjo4u2uhn5i",
    "pycharm": {
     "name": "#%%\n",
     "is_executing": true
    }
   },
   "outputs": [],
   "source": [
    "#!L\n",
    "import pandas as pd\n",
    "import numpy as np\n",
    "import os\n",
    "import sys\n",
    "\n",
    "PROJ_PATH = \"../..\"\n",
    "SRC_PATH = os.path.join(PROJ_PATH, \"intent_complex_model\")\n",
    "sys.path.append(SRC_PATH)\n",
    "\n",
    "import random\n",
    "import time\n",
    "from sklearn.model_selection import train_test_split\n",
    "import nltk\n",
    "\n",
    "from src.data.handle_symbols import handle\n",
    "from src.data.text_augmentation import augment_df\n",
    "\n",
    "random.seed(0)\n",
    "np.random.seed(0)\n",
    "pd.__version__"
   ]
  },
  {
   "cell_type": "code",
   "execution_count": 25,
   "metadata": {
    "cellId": "s0jo7gfavk9s568gyeup5e",
    "pycharm": {
     "name": "#%%\n"
    }
   },
   "outputs": [],
   "source": [
    "#!L\n",
    "DATA_PATH = os.path.join(SRC_PATH, \"data\")\n",
    "RAW_PATH = os.path.join(DATA_PATH, \"raw\")\n",
    "PROCESSED_PATH = os.path.join(DATA_PATH, \"processed\")\n",
    "MODELS_PATH = os.path.join(SRC_PATH, \"models\")"
   ]
  },
  {
   "cell_type": "code",
   "execution_count": 26,
   "metadata": {
    "cellId": "5r9x5s3qub7plxa2hdhog9",
    "pycharm": {
     "name": "#%%\n"
    }
   },
   "outputs": [
    {
     "data": {
      "text/plain": [
       "((93730, 2), (8240, 2), (8092, 2))"
      ]
     },
     "execution_count": 26,
     "metadata": {},
     "output_type": "execute_result"
    }
   ],
   "source": [
    "#!L\n",
    "train = pd.read_excel(os.path.join(RAW_PATH, 'train_88-6-6.xlsx'))[['phrases', 'intent']].reset_index(drop=True)\n",
    "valid = pd.read_excel(os.path.join(RAW_PATH, 'validate_88-6-6.xlsx'), engine='openpyxl')[['phrase', 'intent']].reset_index(drop=True)\n",
    "train.columns, valid.columns = [['text', 'intent'] for _ in range(2)]\n",
    "train.shape, valid.shape"
   ]
  },
  {
   "cell_type": "code",
   "execution_count": 13,
   "metadata": {
    "pycharm": {
     "name": "#%%\n"
    }
   },
   "outputs": [],
   "source": [
    "test = test[test.intent.isin(train.intent.unique())]\n",
    "valid = valid[valid.intent.isin(train.intent.unique())]"
   ]
  },
  {
   "cell_type": "code",
   "execution_count": 14,
   "metadata": {
    "pycharm": {
     "name": "#%%\n"
    }
   },
   "outputs": [
    {
     "data": {
      "text/plain": [
       "(93730, 2)"
      ]
     },
     "execution_count": 14,
     "metadata": {},
     "output_type": "execute_result"
    }
   ],
   "source": [
    "train.shape"
   ]
  },
  {
   "cell_type": "code",
   "execution_count": 15,
   "metadata": {
    "pycharm": {
     "name": "#%%\n"
    }
   },
   "outputs": [
    {
     "data": {
      "text/plain": [
       "(94, 94)"
      ]
     },
     "execution_count": 15,
     "metadata": {},
     "output_type": "execute_result"
    }
   ],
   "source": [
    "valid.intent.nunique(), test.intent.nunique()"
   ]
  },
  {
   "cell_type": "code",
   "execution_count": 17,
   "metadata": {
    "cellId": "5leim73g1ub7yoz9frf40a",
    "pycharm": {
     "name": "#%%\n"
    }
   },
   "outputs": [
    {
     "name": "stdout",
     "output_type": "stream",
     "text": [
      "37 57 19 103\n"
     ]
    }
   ],
   "source": [
    "#!L\n",
    "very_small_intents = list(train.intent.value_counts()[train.intent.value_counts()<30].index)\n",
    "med_small_intents = list(train.intent.value_counts()[(train.intent.value_counts()>=30)&(train.intent.value_counts()<100)].index)\n",
    "small_intents = list(train.intent.value_counts()[(train.intent.value_counts()>=100)&(train.intent.value_counts()<200)].index)\n",
    "big_intents = list(train.intent.value_counts()[(train.intent.value_counts()>=200)].index)\n",
    "print(len(very_small_intents), len(med_small_intents), len(small_intents), len(big_intents))"
   ]
  },
  {
   "cell_type": "code",
   "execution_count": 18,
   "metadata": {
    "cellId": "6cv0kmbce84m5jahjd7pb",
    "pycharm": {
     "name": "#%%\n"
    }
   },
   "outputs": [
    {
     "name": "stdout",
     "output_type": "stream",
     "text": [
      "Wed Sep  1 16:05:02 2021\n",
      "Wed Sep  1 16:05:02 2021\n",
      "Wed Sep  1 16:05:02 2021\n",
      "Wed Sep  1 16:06:34 2021\n",
      "Wed Sep  1 16:07:35 2021\n"
     ]
    },
    {
     "data": {
      "text/plain": [
       "(115182, 2)"
      ]
     },
     "execution_count": 18,
     "metadata": {},
     "output_type": "execute_result"
    }
   ],
   "source": [
    "print(time.ctime())\n",
    "vs = augment_df(train[train.intent.isin(very_small_intents)], frac=10, bert_path=None)\n",
    "print(time.ctime())\n",
    "ms = augment_df(train[train.intent.isin(med_small_intents)], frac=2.5, bert_path=None)\n",
    "print(time.ctime())\n",
    "ms = augment_df(ms, frac=2, bert_path=BERT_PATH)\n",
    "print(time.ctime())\n",
    "s = augment_df(train[train.intent.isin(small_intents)], frac=3, bert_path=BERT_PATH)\n",
    "print(time.ctime())\n",
    "b = train[train.intent.isin(big_intents)].copy()\n",
    "\n",
    "train = pd.concat([vs, ms, s, b])\n",
    "train.shape"
   ]
  },
  {
   "cell_type": "code",
   "execution_count": 19,
   "metadata": {
    "pycharm": {
     "name": "#%%\n"
    }
   },
   "outputs": [],
   "source": [
    "train = train[~train.text.isin(valid.text)]\n",
    "train = train[~train.text.isin(test.text)]\n",
    "train.drop_duplicates(inplace=True)"
   ]
  },
  {
   "cell_type": "code",
   "execution_count": 20,
   "metadata": {
    "cellId": "9t88nqcrrguez69ocv6zkh",
    "pycharm": {
     "name": "#%%\n"
    }
   },
   "outputs": [
    {
     "data": {
      "text/plain": [
       "(103832, 2)"
      ]
     },
     "execution_count": 20,
     "metadata": {},
     "output_type": "execute_result"
    }
   ],
   "source": [
    "#!L\n",
    "train.shape"
   ]
  },
  {
   "cell_type": "code",
   "execution_count": 21,
   "metadata": {
    "cellId": "3182p6tz33b3f2t7eajxwc",
    "pycharm": {
     "name": "#%%\n"
    }
   },
   "outputs": [],
   "source": [
    "#!M\n",
    "train.to_csv(os.path.join(PROCESSED_PATH, 'intents_train_context.csv'), index=False)\n",
    "valid.to_csv(os.path.join(PROCESSED_PATH, 'intents_valid.csv'), index=False)"
   ]
  }
 ],
 "metadata": {
  "kernelspec": {
   "name": "python3",
   "language": "python",
   "display_name": "Python 3"
  },
  "language_info": {
   "codemirror_mode": {
    "name": "ipython",
    "version": 3
   },
   "file_extension": ".py",
   "mimetype": "text/x-python",
   "name": "python",
   "nbconvert_exporter": "python",
   "pygments_lexer": "ipython3",
   "version": "3.7.9"
  },
  "notebookId": "c5e5ca94-59ce-415a-a96e-dfb4124d1daf"
 },
 "nbformat": 4,
 "nbformat_minor": 4
}